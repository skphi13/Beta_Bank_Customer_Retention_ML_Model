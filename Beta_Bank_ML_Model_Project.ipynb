{
 "cells": [
  {
   "cell_type": "code",
   "execution_count": 1,
   "metadata": {},
   "outputs": [],
   "source": [
    "import pandas as pd\n",
    "import numpy as np\n",
    "from sklearn.linear_model import LogisticRegression\n",
    "from sklearn.ensemble import RandomForestClassifier\n",
    "from sklearn.model_selection import train_test_split, GridSearchCV\n",
    "from sklearn.preprocessing import OrdinalEncoder, StandardScaler \n",
    "from sklearn.metrics import accuracy_score, classification_report, RocCurveDisplay, confusion_matrix, f1_score, precision_recall_curve, roc_curve, roc_auc_score\n",
    "from sklearn.utils import shuffle, resample\n",
    "from imblearn.pipeline import Pipeline\n",
    "from imblearn.over_sampling import RandomOverSampler\n",
    "import matplotlib.pyplot as plt \n",
    "import seaborn as sns\n",
    "\n",
    "import warnings"
   ]
  },
  {
   "cell_type": "markdown",
   "metadata": {},
   "source": [
    "## Project Info\n",
    "Beta Bank customers are leaving: little by little, chipping away every month. The bankers figured out it’s cheaper to save the existing customers rather than to attract new ones.\n",
    "We need to predict whether a customer will leave the bank soon. You have the data on clients’ past behavior and termination of contracts with the bank.\n",
    "Build a model with the maximum possible F1 score. To pass the project, you need an F1 score of at least 0.59. Check the F1 for the test set.\n",
    "Additionally, measure the AUC-ROC metric and compare it with the F1.\n",
    "\n",
    "\n",
    "## Data Description\n",
    "\n",
    "The dataset includes various features such as customer demographics, account details, and banking behavior, detailed as follows:\n",
    "- **CreditScore**: The credit score of the customer.\n",
    "- **Geography**: The country of residence of the customer.\n",
    "- **Gender**: The gender of the customer.\n",
    "- **Age**: The age of the customer.\n",
    "- **Tenure**: The period a customer has been with the bank.\n",
    "- **Balance**: The account balance.\n",
    "- **NumOfProducts**: The number of products the customer uses.\n",
    "- **HasCrCard**: Indicates if the customer has a credit card.\n",
    "- **IsActiveMember**: Indicates if the customer is an active member.\n",
    "- **EstimatedSalary**: The estimated salary of the customer.\n",
    "- **Exited**: Whether the customer has left the bank (target variable).\n",
    "\n",
    "**Objective**\n",
    "\n",
    "Build a model with an F1 score of at least 59% on the test set, which will allow the Bank to predict who is likely to churn."
   ]
  },
  {
   "cell_type": "markdown",
   "metadata": {},
   "source": [
    "### Load Data"
   ]
  },
  {
   "cell_type": "code",
   "execution_count": 2,
   "metadata": {},
   "outputs": [],
   "source": [
    "# Load the data\n",
    "df = pd.read_csv('/datasets/Churn.csv')"
   ]
  },
  {
   "cell_type": "code",
   "execution_count": 3,
   "metadata": {},
   "outputs": [
    {
     "name": "stdout",
     "output_type": "stream",
     "text": [
      "<class 'pandas.core.frame.DataFrame'>\n",
      "RangeIndex: 10000 entries, 0 to 9999\n",
      "Data columns (total 14 columns):\n",
      " #   Column           Non-Null Count  Dtype  \n",
      "---  ------           --------------  -----  \n",
      " 0   RowNumber        10000 non-null  int64  \n",
      " 1   CustomerId       10000 non-null  int64  \n",
      " 2   Surname          10000 non-null  object \n",
      " 3   CreditScore      10000 non-null  int64  \n",
      " 4   Geography        10000 non-null  object \n",
      " 5   Gender           10000 non-null  object \n",
      " 6   Age              10000 non-null  int64  \n",
      " 7   Tenure           9091 non-null   float64\n",
      " 8   Balance          10000 non-null  float64\n",
      " 9   NumOfProducts    10000 non-null  int64  \n",
      " 10  HasCrCard        10000 non-null  int64  \n",
      " 11  IsActiveMember   10000 non-null  int64  \n",
      " 12  EstimatedSalary  10000 non-null  float64\n",
      " 13  Exited           10000 non-null  int64  \n",
      "dtypes: float64(3), int64(8), object(3)\n",
      "memory usage: 1.1+ MB\n"
     ]
    }
   ],
   "source": [
    "# Data Info\n",
    "\n",
    "df.info()\n"
   ]
  },
  {
   "cell_type": "code",
   "execution_count": 4,
   "metadata": {},
   "outputs": [
    {
     "data": {
      "text/plain": [
       "(10000, 14)"
      ]
     },
     "execution_count": 4,
     "metadata": {},
     "output_type": "execute_result"
    }
   ],
   "source": [
    "df.shape"
   ]
  },
  {
   "cell_type": "code",
   "execution_count": 5,
   "metadata": {},
   "outputs": [
    {
     "data": {
      "text/html": [
       "<div>\n",
       "<style scoped>\n",
       "    .dataframe tbody tr th:only-of-type {\n",
       "        vertical-align: middle;\n",
       "    }\n",
       "\n",
       "    .dataframe tbody tr th {\n",
       "        vertical-align: top;\n",
       "    }\n",
       "\n",
       "    .dataframe thead th {\n",
       "        text-align: right;\n",
       "    }\n",
       "</style>\n",
       "<table border=\"1\" class=\"dataframe\">\n",
       "  <thead>\n",
       "    <tr style=\"text-align: right;\">\n",
       "      <th></th>\n",
       "      <th>RowNumber</th>\n",
       "      <th>CustomerId</th>\n",
       "      <th>Surname</th>\n",
       "      <th>CreditScore</th>\n",
       "      <th>Geography</th>\n",
       "      <th>Gender</th>\n",
       "      <th>Age</th>\n",
       "      <th>Tenure</th>\n",
       "      <th>Balance</th>\n",
       "      <th>NumOfProducts</th>\n",
       "      <th>HasCrCard</th>\n",
       "      <th>IsActiveMember</th>\n",
       "      <th>EstimatedSalary</th>\n",
       "      <th>Exited</th>\n",
       "    </tr>\n",
       "  </thead>\n",
       "  <tbody>\n",
       "    <tr>\n",
       "      <th>0</th>\n",
       "      <td>1</td>\n",
       "      <td>15634602</td>\n",
       "      <td>Hargrave</td>\n",
       "      <td>619</td>\n",
       "      <td>France</td>\n",
       "      <td>Female</td>\n",
       "      <td>42</td>\n",
       "      <td>2.0</td>\n",
       "      <td>0.00</td>\n",
       "      <td>1</td>\n",
       "      <td>1</td>\n",
       "      <td>1</td>\n",
       "      <td>101348.88</td>\n",
       "      <td>1</td>\n",
       "    </tr>\n",
       "    <tr>\n",
       "      <th>1</th>\n",
       "      <td>2</td>\n",
       "      <td>15647311</td>\n",
       "      <td>Hill</td>\n",
       "      <td>608</td>\n",
       "      <td>Spain</td>\n",
       "      <td>Female</td>\n",
       "      <td>41</td>\n",
       "      <td>1.0</td>\n",
       "      <td>83807.86</td>\n",
       "      <td>1</td>\n",
       "      <td>0</td>\n",
       "      <td>1</td>\n",
       "      <td>112542.58</td>\n",
       "      <td>0</td>\n",
       "    </tr>\n",
       "    <tr>\n",
       "      <th>2</th>\n",
       "      <td>3</td>\n",
       "      <td>15619304</td>\n",
       "      <td>Onio</td>\n",
       "      <td>502</td>\n",
       "      <td>France</td>\n",
       "      <td>Female</td>\n",
       "      <td>42</td>\n",
       "      <td>8.0</td>\n",
       "      <td>159660.80</td>\n",
       "      <td>3</td>\n",
       "      <td>1</td>\n",
       "      <td>0</td>\n",
       "      <td>113931.57</td>\n",
       "      <td>1</td>\n",
       "    </tr>\n",
       "    <tr>\n",
       "      <th>3</th>\n",
       "      <td>4</td>\n",
       "      <td>15701354</td>\n",
       "      <td>Boni</td>\n",
       "      <td>699</td>\n",
       "      <td>France</td>\n",
       "      <td>Female</td>\n",
       "      <td>39</td>\n",
       "      <td>1.0</td>\n",
       "      <td>0.00</td>\n",
       "      <td>2</td>\n",
       "      <td>0</td>\n",
       "      <td>0</td>\n",
       "      <td>93826.63</td>\n",
       "      <td>0</td>\n",
       "    </tr>\n",
       "    <tr>\n",
       "      <th>4</th>\n",
       "      <td>5</td>\n",
       "      <td>15737888</td>\n",
       "      <td>Mitchell</td>\n",
       "      <td>850</td>\n",
       "      <td>Spain</td>\n",
       "      <td>Female</td>\n",
       "      <td>43</td>\n",
       "      <td>2.0</td>\n",
       "      <td>125510.82</td>\n",
       "      <td>1</td>\n",
       "      <td>1</td>\n",
       "      <td>1</td>\n",
       "      <td>79084.10</td>\n",
       "      <td>0</td>\n",
       "    </tr>\n",
       "  </tbody>\n",
       "</table>\n",
       "</div>"
      ],
      "text/plain": [
       "   RowNumber  CustomerId   Surname  CreditScore Geography  Gender  Age  \\\n",
       "0          1    15634602  Hargrave          619    France  Female   42   \n",
       "1          2    15647311      Hill          608     Spain  Female   41   \n",
       "2          3    15619304      Onio          502    France  Female   42   \n",
       "3          4    15701354      Boni          699    France  Female   39   \n",
       "4          5    15737888  Mitchell          850     Spain  Female   43   \n",
       "\n",
       "   Tenure    Balance  NumOfProducts  HasCrCard  IsActiveMember  \\\n",
       "0     2.0       0.00              1          1               1   \n",
       "1     1.0   83807.86              1          0               1   \n",
       "2     8.0  159660.80              3          1               0   \n",
       "3     1.0       0.00              2          0               0   \n",
       "4     2.0  125510.82              1          1               1   \n",
       "\n",
       "   EstimatedSalary  Exited  \n",
       "0        101348.88       1  \n",
       "1        112542.58       0  \n",
       "2        113931.57       1  \n",
       "3         93826.63       0  \n",
       "4         79084.10       0  "
      ]
     },
     "execution_count": 5,
     "metadata": {},
     "output_type": "execute_result"
    }
   ],
   "source": [
    "df.head()"
   ]
  },
  {
   "cell_type": "code",
   "execution_count": 6,
   "metadata": {},
   "outputs": [
    {
     "data": {
      "text/plain": [
       "RowNumber          0.0000\n",
       "CustomerId         0.0000\n",
       "Surname            0.0000\n",
       "CreditScore        0.0000\n",
       "Geography          0.0000\n",
       "Gender             0.0000\n",
       "Age                0.0000\n",
       "Tenure             0.0909\n",
       "Balance            0.0000\n",
       "NumOfProducts      0.0000\n",
       "HasCrCard          0.0000\n",
       "IsActiveMember     0.0000\n",
       "EstimatedSalary    0.0000\n",
       "Exited             0.0000\n",
       "dtype: float64"
      ]
     },
     "execution_count": 6,
     "metadata": {},
     "output_type": "execute_result"
    }
   ],
   "source": [
    "df.isnull().mean()\n"
   ]
  },
  {
   "cell_type": "code",
   "execution_count": 7,
   "metadata": {},
   "outputs": [
    {
     "data": {
      "text/plain": [
       "0"
      ]
     },
     "execution_count": 7,
     "metadata": {},
     "output_type": "execute_result"
    }
   ],
   "source": [
    "# Check for duplicates\n",
    "df.duplicated().sum()"
   ]
  },
  {
   "cell_type": "markdown",
   "metadata": {},
   "source": [
    "#### Observation\n",
    "- No duplicates data found.\n",
    "- Tenure is missing about 9.09% of entries. "
   ]
  },
  {
   "cell_type": "markdown",
   "metadata": {},
   "source": [
    "### Prepare the Data"
   ]
  },
  {
   "cell_type": "code",
   "execution_count": 8,
   "metadata": {},
   "outputs": [],
   "source": [
    "# Drop unnecessary columns\n",
    "df_cleaned = df.drop(columns=['RowNumber', 'CustomerId', 'Surname'])\n"
   ]
  },
  {
   "cell_type": "code",
   "execution_count": 9,
   "metadata": {},
   "outputs": [],
   "source": [
    "# Handle missing values in 'Tenure' (filling with median)\n",
    "df_cleaned['Tenure'].fillna(df_cleaned['Tenure'].median(), inplace=True)\n"
   ]
  },
  {
   "cell_type": "code",
   "execution_count": 10,
   "metadata": {},
   "outputs": [
    {
     "name": "stdout",
     "output_type": "stream",
     "text": [
      "<class 'pandas.core.frame.DataFrame'>\n",
      "RangeIndex: 10000 entries, 0 to 9999\n",
      "Data columns (total 11 columns):\n",
      " #   Column           Non-Null Count  Dtype  \n",
      "---  ------           --------------  -----  \n",
      " 0   CreditScore      10000 non-null  int64  \n",
      " 1   Geography        10000 non-null  object \n",
      " 2   Gender           10000 non-null  object \n",
      " 3   Age              10000 non-null  int64  \n",
      " 4   Tenure           10000 non-null  float64\n",
      " 5   Balance          10000 non-null  float64\n",
      " 6   NumOfProducts    10000 non-null  int64  \n",
      " 7   HasCrCard        10000 non-null  int64  \n",
      " 8   IsActiveMember   10000 non-null  int64  \n",
      " 9   EstimatedSalary  10000 non-null  float64\n",
      " 10  Exited           10000 non-null  int64  \n",
      "dtypes: float64(3), int64(6), object(2)\n",
      "memory usage: 859.5+ KB\n"
     ]
    }
   ],
   "source": [
    "df_cleaned.info()\n"
   ]
  },
  {
   "cell_type": "markdown",
   "metadata": {},
   "source": [
    "#### Functions for graphs"
   ]
  },
  {
   "cell_type": "code",
   "execution_count": 11,
   "metadata": {},
   "outputs": [],
   "source": [
    "# Function to plot class balance\n",
    "def plot_class_balance(y_train):\n",
    "    plt.figure(figsize=(6, 4))\n",
    "    sns.countplot(x=y_train, palette='Set1')\n",
    "    plt.title('Class Balance in Training Set')\n",
    "    plt.xlabel('Exited (0 = No, 1 = Yes)')\n",
    "    plt.ylabel('Count')\n",
    "    plt.show()\n",
    "\n",
    "# Function to plot feature importance\n",
    "def plot_feature_importance(model, X_train):\n",
    "    importances = model.feature_importances_\n",
    "    indices = np.argsort(importances)[::-1]\n",
    "    features = X_train.columns\n",
    "\n",
    "    plt.figure(figsize=(10, 6))\n",
    "    plt.title('Feature Importance')\n",
    "    plt.bar(range(X_train.shape[1]), importances[indices], align='center', color='skyblue')\n",
    "    plt.xticks(range(X_train.shape[1]), features[indices], rotation=90)\n",
    "    plt.tight_layout()\n",
    "    plt.show()\n",
    "\n",
    "# Function to plot ROC curve\n",
    "def plot_roc_curve(y_test, model, X_test):\n",
    "    fpr, tpr, _ = roc_curve(y_test, model.predict_proba(X_test)[:, 1])\n",
    "    RocCurveDisplay(fpr=fpr, tpr=tpr).plot()\n",
    "    plt.title('ROC Curve')\n",
    "    plt.show()\n",
    "\n",
    "# Function to plot confusion matrix\n",
    "def plot_confusion_matrix(y_test, y_pred):\n",
    "    cm = confusion_matrix(y_test, y_pred)\n",
    "    plt.figure(figsize=(6, 4))\n",
    "    sns.heatmap(cm, annot=True, fmt='d', cmap='Blues', cbar=False)\n",
    "    plt.title('Confusion Matrix')\n",
    "    plt.ylabel('Actual')\n",
    "    plt.xlabel('Predicted')\n",
    "    plt.show()"
   ]
  },
  {
   "cell_type": "code",
   "execution_count": 12,
   "metadata": {},
   "outputs": [],
   "source": [
    "# Convert categorical variables ('Geography', 'Gender') using one-hot encoding\n",
    "df_encoded = pd.get_dummies(df_cleaned, columns=['Geography', 'Gender'], drop_first=True)\n"
   ]
  },
  {
   "cell_type": "code",
   "execution_count": 13,
   "metadata": {},
   "outputs": [],
   "source": [
    "# Split the data into features (X) and target (y)\n",
    "X = df_encoded.drop(columns=['Exited'])\n",
    "y = df_encoded['Exited']\n",
    "\n",
    "# Split the data into training and test sets (80% train, 20% test)\n",
    "X_train, X_test, y_train, y_test = train_test_split(X, y, test_size=0.2, random_state=42, stratify=y)\n"
   ]
  },
  {
   "cell_type": "code",
   "execution_count": 14,
   "metadata": {},
   "outputs": [
    {
     "name": "stdout",
     "output_type": "stream",
     "text": [
      "Class Balance in Training Set:\n",
      " 0    0.79625\n",
      "1    0.20375\n",
      "Name: Exited, dtype: float64\n"
     ]
    },
    {
     "data": {
      "image/png": "[encoded data removed]",
      "text/plain": [
       "<Figure size 600x400 with 1 Axes>"
      ]
     },
     "metadata": {},
     "output_type": "display_data"
    }
   ],
   "source": [
    "# Check class balance in the training set\n",
    "class_balance = y_train.value_counts(normalize=True)\n",
    "print(\"Class Balance in Training Set:\\n\", class_balance)\n",
    "plot_class_balance(y_train)\n"
   ]
  },
  {
   "cell_type": "markdown",
   "metadata": {},
   "source": [
    "### Training Model without accounting for class imbalance"
   ]
  },
  {
   "cell_type": "code",
   "execution_count": 15,
   "metadata": {},
   "outputs": [],
   "source": [
    "# Train a RandomForest model without accounting for class imbalance\n",
    "rf_model = RandomForestClassifier(random_state=42)\n",
    "rf_model.fit(X_train, y_train)\n",
    "\n",
    "# Predict on the test set\n",
    "y_pred = rf_model.predict(X_test)"
   ]
  },
  {
   "cell_type": "code",
   "execution_count": 16,
   "metadata": {},
   "outputs": [
    {
     "name": "stdout",
     "output_type": "stream",
     "text": [
      "\n",
      "Classification Report:\n",
      "               precision    recall  f1-score   support\n",
      "\n",
      "           0       0.87      0.96      0.91      1593\n",
      "           1       0.75      0.44      0.56       407\n",
      "\n",
      "    accuracy                           0.86      2000\n",
      "   macro avg       0.81      0.70      0.74      2000\n",
      "weighted avg       0.85      0.86      0.84      2000\n",
      "\n",
      "F1 Score: 0.5572755417956656\n",
      "AUC-ROC Score: 0.8486313740551028\n"
     ]
    }
   ],
   "source": [
    "# Calculate F1 score and AUC-ROC score\n",
    "f1 = f1_score(y_test, y_pred)\n",
    "auc_roc = roc_auc_score(y_test, rf_model.predict_proba(X_test)[:, 1])\n",
    "\n",
    "# Display classification report, F1 score, and AUC-ROC score\n",
    "print(\"\\nClassification Report:\\n\", classification_report(y_test, y_pred))\n",
    "print(f\"F1 Score: {f1}\")\n",
    "print(f\"AUC-ROC Score: {auc_roc}\")"
   ]
  },
  {
   "cell_type": "markdown",
   "metadata": {},
   "source": [
    "#### Observation\n",
    "- Accuracy: 0.86 — The model correctly classified 86% of the cases overall, but this may be inflated by the class imbalance (more customers stayed).\n",
    "- Macro Avg F1: 0.74 — Reflects the average performance across both classes, showing that class 1 (Exited) drags down the overall score.\n",
    "- AUC-ROC Score: 0.85 — A strong result, indicating that the model performs well in distinguishing between the two classes across thresholds, despite the lower recall for exited customers."
   ]
  },
  {
   "cell_type": "code",
   "execution_count": 17,
   "metadata": {},
   "outputs": [
    {
     "name": "stderr",
     "output_type": "stream",
     "text": [
      "No handles with labels found to put in legend.\n"
     ]
    },
    {
     "data": {
      "image/png": "[encoded data removed]",
      "text/plain": [
       "<Figure size 640x480 with 1 Axes>"
      ]
     },
     "metadata": {},
     "output_type": "display_data"
    }
   ],
   "source": [
    "# Plot ROC curve\n",
    "plot_roc_curve(y_test, rf_model, X_test)"
   ]
  },
  {
   "cell_type": "code",
   "execution_count": 18,
   "metadata": {},
   "outputs": [
    {
     "data": {
      "image/png": "[encoded data removed]",
      "text/plain": [
       "<Figure size 600x400 with 1 Axes>"
      ]
     },
     "metadata": {},
     "output_type": "display_data"
    }
   ],
   "source": [
    "# Plot confusion matrix\n",
    "plot_confusion_matrix(y_test, y_pred)"
   ]
  },
  {
   "cell_type": "markdown",
   "metadata": {},
   "source": [
    "#### Observation\n",
    "\n",
    "- The high number of false negatives (227) is problematic because the bank's primary goal is to identify customers who are likely to churn. Missing these customers means the bank loses opportunities to retain them. This aligns with the lower recall score of 0.44 for the churn class (Exited = 1).\n",
    "- AUC-ROC Score: 0.85 — The area under the curve (AUC) is quite high, indicating that the model has a strong ability to separate churners from non-churners. A perfect model would have an AUC of 1, and a random guess would have an AUC of 0.5.\n",
    "- Shape of the Curve: The ROC curve rises steeply towards the top-left corner, which is a good sign. This shows that the model is effective at maintaining a high true positive rate while keeping the false positive rate low, though there is some room for improvement.\n",
    "\n",
    "**In summary, while the ROC curve and AUC score show that the model has good discriminatory power, the confusion matrix highlights that improvements are still needed in catching more true churners (reducing the false negatives).**"
   ]
  },
  {
   "cell_type": "markdown",
   "metadata": {},
   "source": [
    "### Train Model with Regard to Imbalance"
   ]
  },
  {
   "cell_type": "markdown",
   "metadata": {},
   "source": [
    "#### RandomForest classifier"
   ]
  },
  {
   "cell_type": "code",
   "execution_count": 19,
   "metadata": {},
   "outputs": [],
   "source": [
    "# Function to evaluate model\n",
    "def evaluate_model(model, X_test, y_test, model_name):\n",
    "    y_pred = model.predict(X_test)\n",
    "    f1 = f1_score(y_test, y_pred)\n",
    "    auc_roc = roc_auc_score(y_test, model.predict_proba(X_test)[:, 1])\n",
    "    print(f\"\\n{model_name} Results:\")\n",
    "    print(f\"F1 Score: {f1}\")\n",
    "    print(f\"AUC-ROC Score: {auc_roc}\")\n",
    "    print(\"Classification Report:\\n\", classification_report(y_test, y_pred))\n",
    "    # Plot confusion matrix\n",
    "    cm = confusion_matrix(y_test, y_pred)\n",
    "    sns.heatmap(cm, annot=True, fmt='d', cmap='Blues')\n",
    "    plt.title(f'Confusion Matrix - {model_name}')\n",
    "    plt.xlabel('Predicted')\n",
    "    plt.ylabel('Actual')\n",
    "    plt.show()\n",
    "    return f1, auc_roc"
   ]
  },
  {
   "cell_type": "code",
   "execution_count": 20,
   "metadata": {},
   "outputs": [
    {
     "name": "stdout",
     "output_type": "stream",
     "text": [
      "\n",
      "--- Model with Class Weights ---\n",
      "\n",
      "Class Weights Results:\n",
      "F1 Score: 0.555205047318612\n",
      "AUC-ROC Score: 0.851272690255741\n",
      "Classification Report:\n",
      "               precision    recall  f1-score   support\n",
      "\n",
      "           0       0.87      0.97      0.92      1593\n",
      "           1       0.78      0.43      0.56       407\n",
      "\n",
      "    accuracy                           0.86      2000\n",
      "   macro avg       0.82      0.70      0.74      2000\n",
      "weighted avg       0.85      0.86      0.84      2000\n",
      "\n"
     ]
    },
    {
     "data": {
      "image/png": "[encoded data removed]",
      "text/plain": [
       "<Figure size 640x480 with 2 Axes>"
      ]
     },
     "metadata": {},
     "output_type": "display_data"
    }
   ],
   "source": [
    "#Baseline Model - Using Class Weights in RandomForest\n",
    "print(\"\\n--- Model with Class Weights ---\")\n",
    "rf_class_weight = RandomForestClassifier(random_state=42, class_weight='balanced')\n",
    "rf_class_weight.fit(X_train, y_train)\n",
    "f1_weight, auc_roc_weight = evaluate_model(rf_class_weight, X_test, y_test, 'Class Weights')\n"
   ]
  },
  {
   "cell_type": "code",
   "execution_count": 21,
   "metadata": {},
   "outputs": [
    {
     "name": "stdout",
     "output_type": "stream",
     "text": [
      "\n",
      "--- Upsampling the Minority Class ---\n",
      "\n",
      "Upsampled Data Results:\n",
      "F1 Score: 0.5966850828729282\n",
      "AUC-ROC Score: 0.8507613931342745\n",
      "Classification Report:\n",
      "               precision    recall  f1-score   support\n",
      "\n",
      "           0       0.89      0.94      0.91      1593\n",
      "           1       0.68      0.53      0.60       407\n",
      "\n",
      "    accuracy                           0.85      2000\n",
      "   macro avg       0.78      0.73      0.75      2000\n",
      "weighted avg       0.84      0.85      0.85      2000\n",
      "\n"
     ]
    },
    {
     "data": {
      "image/png": "[encoded data removed]",
      "text/plain": [
       "<Figure size 640x480 with 2 Axes>"
      ]
     },
     "metadata": {},
     "output_type": "display_data"
    }
   ],
   "source": [
    "# 2. Upsampling the Minority Class (Class 1)\n",
    "print(\"\\n--- Upsampling the Minority Class ---\")\n",
    "# Concatenate X_train and y_train for resampling\n",
    "train_data = pd.concat([X_train, y_train], axis=1)\n",
    "# Separate the minority and majority classes\n",
    "minority_class = train_data[train_data['Exited'] == 1]\n",
    "majority_class = train_data[train_data['Exited'] == 0]\n",
    "# Upsample minority class\n",
    "minority_upsampled = resample(minority_class, replace=True, n_samples=len(majority_class), random_state=42)\n",
    "# Combine majority class with upsampled minority class\n",
    "upsampled_train = pd.concat([majority_class, minority_upsampled])\n",
    "# Split the upsampled data back into X and y\n",
    "X_train_upsampled = upsampled_train.drop(columns=['Exited'])\n",
    "y_train_upsampled = upsampled_train['Exited']\n",
    "# Train the model\n",
    "rf_upsampled = RandomForestClassifier(random_state=42)\n",
    "rf_upsampled.fit(X_train_upsampled, y_train_upsampled)\n",
    "f1_upsample, auc_roc_upsample = evaluate_model(rf_upsampled, X_test, y_test, 'Upsampled Data')\n"
   ]
  },
  {
   "cell_type": "code",
   "execution_count": 22,
   "metadata": {},
   "outputs": [
    {
     "name": "stdout",
     "output_type": "stream",
     "text": [
      "\n",
      "--- Downsampling the Majority Class ---\n",
      "\n",
      "Downsampled Data Results:\n",
      "F1 Score: 0.5786516853932584\n",
      "AUC-ROC Score: 0.8539248030773454\n",
      "Classification Report:\n",
      "               precision    recall  f1-score   support\n",
      "\n",
      "           0       0.93      0.78      0.85      1593\n",
      "           1       0.47      0.76      0.58       407\n",
      "\n",
      "    accuracy                           0.78      2000\n",
      "   macro avg       0.70      0.77      0.71      2000\n",
      "weighted avg       0.83      0.78      0.79      2000\n",
      "\n"
     ]
    },
    {
     "data": {
      "image/png": "[encoded data removed]",
      "text/plain": [
       "<Figure size 640x480 with 2 Axes>"
      ]
     },
     "metadata": {},
     "output_type": "display_data"
    }
   ],
   "source": [
    "# 3. Downsampling the Majority Class (Class 0)\n",
    "print(\"\\n--- Downsampling the Majority Class ---\")\n",
    "# Downsample majority class\n",
    "majority_downsampled = resample(majority_class, replace=False, n_samples=len(minority_class), random_state=42)\n",
    "# Combine downsampled majority class with minority class\n",
    "downsampled_train = pd.concat([majority_downsampled, minority_class])\n",
    "# Split the downsampled data back into X and y\n",
    "X_train_downsampled = downsampled_train.drop(columns=['Exited'])\n",
    "y_train_downsampled = downsampled_train['Exited']\n",
    "# Train the model\n",
    "rf_downsampled = RandomForestClassifier(random_state=42)\n",
    "rf_downsampled.fit(X_train_downsampled, y_train_downsampled)\n",
    "f1_downsample, auc_roc_downsample = evaluate_model(rf_downsampled, X_test, y_test, 'Downsampled Data')\n"
   ]
  },
  {
   "cell_type": "markdown",
   "metadata": {},
   "source": [
    "#### Logistic Regression Model"
   ]
  },
  {
   "cell_type": "code",
   "execution_count": 23,
   "metadata": {},
   "outputs": [],
   "source": [
    "# Logistic Regression model function\n",
    "def logistic_regression_model(X_train, y_train, X_test, y_test, model_name):\n",
    "    lr_model = LogisticRegression(random_state=42, max_iter=1000)\n",
    "    lr_model.fit(X_train, y_train)\n",
    "    return evaluate_model(lr_model, X_test, y_test, model_name)\n"
   ]
  },
  {
   "cell_type": "code",
   "execution_count": 24,
   "metadata": {},
   "outputs": [
    {
     "name": "stdout",
     "output_type": "stream",
     "text": [
      "\n",
      "--- Logistic Regression with Class Weights ---\n"
     ]
    },
    {
     "name": "stderr",
     "output_type": "stream",
     "text": [
      "/home/jovyan/.local/lib/python3.9/site-packages/sklearn/linear_model/_logistic.py:469: ConvergenceWarning: lbfgs failed to converge (status=1):\n",
      "STOP: TOTAL NO. of ITERATIONS REACHED LIMIT.\n",
      "\n",
      "Increase the number of iterations (max_iter) or scale the data as shown in:\n",
      "    https://scikit-learn.org/stable/modules/preprocessing.html\n",
      "Please also refer to the documentation for alternative solver options:\n",
      "    https://scikit-learn.org/stable/modules/linear_model.html#logistic-regression\n",
      "  n_iter_i = _check_optimize_result(\n"
     ]
    },
    {
     "name": "stdout",
     "output_type": "stream",
     "text": [
      "\n",
      "Logistic Regression - Class Weights Results:\n",
      "F1 Score: 0.4858369098712446\n",
      "AUC-ROC Score: 0.7666032750778513\n",
      "Classification Report:\n",
      "               precision    recall  f1-score   support\n",
      "\n",
      "           0       0.90      0.70      0.79      1593\n",
      "           1       0.37      0.70      0.49       407\n",
      "\n",
      "    accuracy                           0.70      2000\n",
      "   macro avg       0.64      0.70      0.64      2000\n",
      "weighted avg       0.79      0.70      0.73      2000\n",
      "\n"
     ]
    },
    {
     "data": {
      "image/png": "[encoded data removed]",
      "text/plain": [
       "<Figure size 640x480 with 2 Axes>"
      ]
     },
     "metadata": {},
     "output_type": "display_data"
    }
   ],
   "source": [
    "# 1. Logistic Regression with Class Weights\n",
    "print(\"\\n--- Logistic Regression with Class Weights ---\")\n",
    "lr_class_weight = LogisticRegression(random_state=42, class_weight='balanced', max_iter=1000)\n",
    "lr_class_weight.fit(X_train, y_train)\n",
    "f1_lr_weight, auc_roc_lr_weight = evaluate_model(lr_class_weight, X_test, y_test, 'Logistic Regression - Class Weights')\n"
   ]
  },
  {
   "cell_type": "code",
   "execution_count": 25,
   "metadata": {},
   "outputs": [
    {
     "name": "stdout",
     "output_type": "stream",
     "text": [
      "\n",
      "--- Logistic Regression on Upsampled Data ---\n"
     ]
    },
    {
     "name": "stderr",
     "output_type": "stream",
     "text": [
      "/home/jovyan/.local/lib/python3.9/site-packages/sklearn/linear_model/_logistic.py:469: ConvergenceWarning: lbfgs failed to converge (status=1):\n",
      "STOP: TOTAL NO. of ITERATIONS REACHED LIMIT.\n",
      "\n",
      "Increase the number of iterations (max_iter) or scale the data as shown in:\n",
      "    https://scikit-learn.org/stable/modules/preprocessing.html\n",
      "Please also refer to the documentation for alternative solver options:\n",
      "    https://scikit-learn.org/stable/modules/linear_model.html#logistic-regression\n",
      "  n_iter_i = _check_optimize_result(\n"
     ]
    },
    {
     "name": "stdout",
     "output_type": "stream",
     "text": [
      "\n",
      "Logistic Regression - Upsampled Results:\n",
      "F1 Score: 0.48588537211291705\n",
      "AUC-ROC Score: 0.7674361572666658\n",
      "Classification Report:\n",
      "               precision    recall  f1-score   support\n",
      "\n",
      "           0       0.90      0.70      0.79      1593\n",
      "           1       0.37      0.70      0.49       407\n",
      "\n",
      "    accuracy                           0.70      2000\n",
      "   macro avg       0.64      0.70      0.64      2000\n",
      "weighted avg       0.79      0.70      0.73      2000\n",
      "\n"
     ]
    },
    {
     "data": {
      "image/png": "[encoded data removed]",
      "text/plain": [
       "<Figure size 640x480 with 2 Axes>"
      ]
     },
     "metadata": {},
     "output_type": "display_data"
    }
   ],
   "source": [
    "# 2. Logistic Regression on Upsampled Data\n",
    "print(\"\\n--- Logistic Regression on Upsampled Data ---\")\n",
    "f1_lr_upsample, auc_roc_lr_upsample = logistic_regression_model(X_train_upsampled, y_train_upsampled, X_test, y_test, 'Logistic Regression - Upsampled')\n"
   ]
  },
  {
   "cell_type": "code",
   "execution_count": 26,
   "metadata": {},
   "outputs": [
    {
     "name": "stdout",
     "output_type": "stream",
     "text": [
      "\n",
      "--- Logistic Regression on Downsampled Data ---\n"
     ]
    },
    {
     "name": "stderr",
     "output_type": "stream",
     "text": [
      "/home/jovyan/.local/lib/python3.9/site-packages/sklearn/linear_model/_logistic.py:469: ConvergenceWarning: lbfgs failed to converge (status=1):\n",
      "STOP: TOTAL NO. of ITERATIONS REACHED LIMIT.\n",
      "\n",
      "Increase the number of iterations (max_iter) or scale the data as shown in:\n",
      "    https://scikit-learn.org/stable/modules/preprocessing.html\n",
      "Please also refer to the documentation for alternative solver options:\n",
      "    https://scikit-learn.org/stable/modules/linear_model.html#logistic-regression\n",
      "  n_iter_i = _check_optimize_result(\n"
     ]
    },
    {
     "name": "stdout",
     "output_type": "stream",
     "text": [
      "\n",
      "Logistic Regression - Downsampled Results:\n",
      "F1 Score: 0.4831649831649832\n",
      "AUC-ROC Score: 0.7648866123442393\n",
      "Classification Report:\n",
      "               precision    recall  f1-score   support\n",
      "\n",
      "           0       0.90      0.69      0.78      1593\n",
      "           1       0.37      0.71      0.48       407\n",
      "\n",
      "    accuracy                           0.69      2000\n",
      "   macro avg       0.63      0.70      0.63      2000\n",
      "weighted avg       0.79      0.69      0.72      2000\n",
      "\n"
     ]
    },
    {
     "data": {
      "image/png": "[encoded data removed]",
      "text/plain": [
       "<Figure size 640x480 with 2 Axes>"
      ]
     },
     "metadata": {},
     "output_type": "display_data"
    }
   ],
   "source": [
    "#3. Logistic Regression on Downsampled Data\n",
    "print(\"\\n--- Logistic Regression on Downsampled Data ---\")\n",
    "f1_lr_downsample, auc_roc_lr_downsample = logistic_regression_model(X_train_downsampled, y_train_downsampled, X_test, y_test, 'Logistic Regression - Downsampled')\n"
   ]
  },
  {
   "cell_type": "code",
   "execution_count": 27,
   "metadata": {},
   "outputs": [
    {
     "data": {
      "image/png": "[encoded data removed]",
      "text/plain": [
       "<Figure size 1400x600 with 2 Axes>"
      ]
     },
     "metadata": {},
     "output_type": "display_data"
    }
   ],
   "source": [
    "# Plot comparison of F1 scores and AUC-ROC for both RandomForest and Logistic Regression\n",
    "\n",
    "approaches = ['Class Weights', 'Upsampling', 'Downsampling']\n",
    "\n",
    "# RandomForest scores\n",
    "rf_f1_scores = [f1_weight, f1_upsample, f1_downsample]\n",
    "rf_auc_roc_scores = [auc_roc_weight, auc_roc_upsample, auc_roc_downsample]\n",
    "\n",
    "# Logistic Regression scores\n",
    "lr_f1_scores = [f1_lr_weight, f1_lr_upsample, f1_lr_downsample]\n",
    "lr_auc_roc_scores = [auc_roc_lr_weight, auc_roc_lr_upsample, auc_roc_lr_downsample]\n",
    "\n",
    "plt.figure(figsize=(14, 6))\n",
    "\n",
    "# Plot F1 Score comparison\n",
    "plt.subplot(1, 2, 1)\n",
    "bar_width = 0.35\n",
    "index = range(len(approaches))\n",
    "\n",
    "plt.bar(index, rf_f1_scores, bar_width, label='RandomForest', color='blue')\n",
    "plt.bar([i + bar_width for i in index], lr_f1_scores, bar_width, label='LogisticRegression', color='green')\n",
    "\n",
    "plt.title('F1 Score Comparison')\n",
    "plt.xlabel('Approaches')\n",
    "plt.ylabel('F1 Score')\n",
    "plt.xticks([i + bar_width / 2 for i in index], approaches)\n",
    "plt.legend()\n",
    "\n",
    "# Plot AUC-ROC Score comparison\n",
    "plt.subplot(1, 2, 2)\n",
    "plt.bar(index, rf_auc_roc_scores, bar_width, label='RandomForest', color='blue')\n",
    "plt.bar([i + bar_width for i in index], lr_auc_roc_scores, bar_width, label='LogisticRegression', color='green')\n",
    "\n",
    "plt.title('AUC-ROC Comparison')\n",
    "plt.xlabel('Approaches')\n",
    "plt.ylabel('AUC-ROC Score')\n",
    "plt.xticks([i + bar_width / 2 for i in index], approaches)\n",
    "plt.legend()\n",
    "\n",
    "plt.tight_layout()\n",
    "plt.show()"
   ]
  },
  {
   "cell_type": "markdown",
   "metadata": {},
   "source": [
    "#### Observations\n",
    "\n",
    "- RandomForest shows a clear advantage over Logistic Regression in both F1 Score and AUC-ROC across all approaches, making it the better choice for this dataset when addressing class imbalance.\n",
    "- Upsampling tends to give the best results for both models, especially in terms of F1 Score and AUC-ROC."
   ]
  },
  {
   "cell_type": "markdown",
   "metadata": {},
   "source": [
    "### Final Test"
   ]
  },
  {
   "cell_type": "code",
   "execution_count": 28,
   "metadata": {},
   "outputs": [],
   "source": [
    "# Split the dataset into training and testing sets\n",
    "X_train, X_test, y_train, y_test = train_test_split(X, y, test_size=0.2, random_state=42)\n",
    "\n",
    "# Define a pipeline with upsampling and RandomForestClassifier\n",
    "pipeline = Pipeline([\n",
    "    ('oversample', RandomOverSampler(random_state=42)),  # Apply RandomOverSampler\n",
    "    ('classifier', RandomForestClassifier(random_state=42))  # Apply RandomForest\n",
    "])\n",
    "\n",
    "# Define the hyperparameter grid to tune\n",
    "param_grid = {\n",
    "    'classifier__n_estimators': [100, 200, 500],\n",
    "    'classifier__max_depth': [None, 10, 20, 30],\n",
    "    'classifier__min_samples_split': [2, 5, 10],\n",
    "    'classifier__min_samples_leaf': [1, 2, 4]\n",
    "}"
   ]
  },
  {
   "cell_type": "code",
   "execution_count": null,
   "metadata": {},
   "outputs": [],
   "source": [
    "# Set up the GridSearchCV with cross-validation\n",
    "grid_search = GridSearchCV(pipeline, param_grid, cv=5, scoring='f1', n_jobs=-1)\n",
    "\n",
    "# Fit the model to the upsampled training data\n",
    "grid_search.fit(X_train, y_train)\n",
    "\n",
    "# Best hyperparameters after tuning\n",
    "best_params = grid_search.best_params_\n",
    "print(f\"Best hyperparameters: {best_params}\")"
   ]
  },
  {
   "cell_type": "code",
   "execution_count": null,
   "metadata": {},
   "outputs": [],
   "source": [
    "# Predict on the test data using the best model\n",
    "best_model = grid_search.best_estimator_\n",
    "y_pred = best_model.predict(X_test)\n",
    "\n",
    "# Calculate and display F1 score, AUC-ROC, and classification report\n",
    "f1_final = f1_score(y_test, y_pred)\n",
    "auc_roc_final = roc_auc_score(y_test, best_model.predict_proba(X_test)[:, 1])\n",
    "\n",
    "print(\"\\nFinal Classification Report:\\n\", classification_report(y_test, y_pred))\n",
    "print(f\"Final F1 Score: {f1_final:.4f}\")\n",
    "print(f\"Final AUC-ROC Score: {auc_roc_final:.4f}\")"
   ]
  },
  {
   "cell_type": "markdown",
   "metadata": {},
   "source": [
    "### Conclusion\n",
    "\n",
    "In the task for creating a model capable of predicting Beta Bank customer churn with an f1 score of at least 0.59, Random Forrest Classifier and Logistic Regression were tested using three different target class balancing methods ('weight_class'='balanced' argument, upsampling, and downsampling). \n",
    " \n",
    "The best Machine Learning algorithm was the Random Forrest Classifier.\n",
    "\n",
    "Final F1 Score: 0.6225\n",
    "Final AUC-ROC Score: 0.8600"
   ]
  },
  {
   "cell_type": "markdown",
   "metadata": {},
   "source": [
    "After the changes, it takes forever to run the code online here but when I ran it loccaly. These are the results.\n",
    "\n",
    "Best hyperparameters: {'classifier__max_depth': None, 'classifier__min_samples_leaf': 4, 'classifier__min_samples_split': 2, 'classifier__n_estimators': 100}\n",
    "\n",
    "Final Classification Report:\n",
    "               precision    recall  f1-score   support\n",
    "\n",
    "           0       0.91      0.89      0.90      1607\n",
    "           1       0.60      0.65      0.62       393\n",
    "\n",
    "    accuracy                           0.85      2000\n",
    "   macro avg       0.76      0.77      0.76      2000\n",
    "weighted avg       0.85      0.85      0.85      2000\n",
    "\n",
    "Final F1 Score: 0.6225\n",
    "Final AUC-ROC Score: 0.8600"
   ]
  },
  {
   "cell_type": "code",
   "execution_count": null,
   "metadata": {},
   "outputs": [],
   "source": []
  }
 ],
 "metadata": {
  "ExecuteTimeLog": [
   {
    "duration": 2808,
    "start_time": "2024-10-08T13:52:37.938Z"
   },
   {
    "duration": 3,
    "start_time": "2024-10-08T13:55:37.149Z"
   },
   {
    "duration": 30,
    "start_time": "2024-10-08T13:57:10.432Z"
   },
   {
    "duration": 11,
    "start_time": "2024-10-08T13:57:27.289Z"
   },
   {
    "duration": 229,
    "start_time": "2024-10-08T13:57:41.748Z"
   },
   {
    "duration": 5,
    "start_time": "2024-10-08T13:57:55.641Z"
   },
   {
    "duration": 17,
    "start_time": "2024-10-08T13:58:18.057Z"
   },
   {
    "duration": 16,
    "start_time": "2024-10-08T14:02:59.406Z"
   },
   {
    "duration": 14,
    "start_time": "2024-10-08T14:03:03.774Z"
   },
   {
    "duration": 9,
    "start_time": "2024-10-08T14:03:30.936Z"
   },
   {
    "duration": 5190,
    "start_time": "2024-10-09T03:04:12.741Z"
   },
   {
    "duration": 42,
    "start_time": "2024-10-09T03:04:17.937Z"
   },
   {
    "duration": 21,
    "start_time": "2024-10-09T03:04:17.982Z"
   },
   {
    "duration": 11,
    "start_time": "2024-10-09T03:04:18.009Z"
   },
   {
    "duration": 24,
    "start_time": "2024-10-09T03:04:18.023Z"
   },
   {
    "duration": 11,
    "start_time": "2024-10-09T03:04:18.053Z"
   },
   {
    "duration": 11,
    "start_time": "2024-10-09T03:05:45.536Z"
   },
   {
    "duration": 4,
    "start_time": "2024-10-09T03:06:16.387Z"
   },
   {
    "duration": 5,
    "start_time": "2024-10-09T03:10:44.765Z"
   },
   {
    "duration": 34,
    "start_time": "2024-10-09T03:10:46.180Z"
   },
   {
    "duration": 15,
    "start_time": "2024-10-09T03:10:46.571Z"
   },
   {
    "duration": 4,
    "start_time": "2024-10-09T03:10:46.743Z"
   },
   {
    "duration": 14,
    "start_time": "2024-10-09T03:10:46.941Z"
   },
   {
    "duration": 10,
    "start_time": "2024-10-09T03:10:47.265Z"
   },
   {
    "duration": 16,
    "start_time": "2024-10-09T03:10:47.519Z"
   },
   {
    "duration": 5,
    "start_time": "2024-10-09T03:10:49.083Z"
   },
   {
    "duration": 5,
    "start_time": "2024-10-09T03:15:45.143Z"
   },
   {
    "duration": 13,
    "start_time": "2024-10-09T03:15:52.914Z"
   },
   {
    "duration": 4,
    "start_time": "2024-10-09T03:16:02.651Z"
   },
   {
    "duration": 16,
    "start_time": "2024-10-09T03:16:03.459Z"
   },
   {
    "duration": 11,
    "start_time": "2024-10-09T03:16:03.824Z"
   },
   {
    "duration": 4,
    "start_time": "2024-10-09T03:16:04.363Z"
   },
   {
    "duration": 12,
    "start_time": "2024-10-09T03:16:05.361Z"
   },
   {
    "duration": 7,
    "start_time": "2024-10-09T03:16:05.780Z"
   },
   {
    "duration": 10,
    "start_time": "2024-10-09T03:16:06.223Z"
   },
   {
    "duration": 5,
    "start_time": "2024-10-09T03:16:09.274Z"
   },
   {
    "duration": 4,
    "start_time": "2024-10-09T03:16:09.688Z"
   },
   {
    "duration": 321,
    "start_time": "2024-10-09T03:16:22.474Z"
   },
   {
    "duration": 11,
    "start_time": "2024-10-09T03:16:31.824Z"
   },
   {
    "duration": 12,
    "start_time": "2024-10-09T03:25:17.848Z"
   },
   {
    "duration": 6,
    "start_time": "2024-10-09T03:25:26.729Z"
   },
   {
    "duration": 10,
    "start_time": "2024-10-09T03:25:45.766Z"
   },
   {
    "duration": 12,
    "start_time": "2024-10-09T03:26:05.179Z"
   },
   {
    "duration": 802,
    "start_time": "2024-10-09T03:26:23.331Z"
   },
   {
    "duration": 7,
    "start_time": "2024-10-09T03:30:40.270Z"
   },
   {
    "duration": 10,
    "start_time": "2024-10-09T03:30:41.971Z"
   },
   {
    "duration": 12,
    "start_time": "2024-10-09T03:30:42.475Z"
   },
   {
    "duration": 4,
    "start_time": "2024-10-09T03:30:42.872Z"
   },
   {
    "duration": 5,
    "start_time": "2024-10-09T03:31:23.005Z"
   },
   {
    "duration": 130,
    "start_time": "2024-10-09T03:31:51.306Z"
   },
   {
    "duration": 1011,
    "start_time": "2024-10-09T03:32:37.374Z"
   },
   {
    "duration": 51,
    "start_time": "2024-10-09T03:32:51.157Z"
   },
   {
    "duration": 286,
    "start_time": "2024-10-09T03:34:55.559Z"
   },
   {
    "duration": 78,
    "start_time": "2024-10-09T03:35:12.556Z"
   },
   {
    "duration": 3,
    "start_time": "2024-10-09T03:36:58.930Z"
   },
   {
    "duration": 21,
    "start_time": "2024-10-09T03:36:59.600Z"
   },
   {
    "duration": 12,
    "start_time": "2024-10-09T03:36:59.769Z"
   },
   {
    "duration": 4,
    "start_time": "2024-10-09T03:36:59.935Z"
   },
   {
    "duration": 11,
    "start_time": "2024-10-09T03:37:00.094Z"
   },
   {
    "duration": 8,
    "start_time": "2024-10-09T03:37:00.256Z"
   },
   {
    "duration": 10,
    "start_time": "2024-10-09T03:37:00.585Z"
   },
   {
    "duration": 4,
    "start_time": "2024-10-09T03:37:01.059Z"
   },
   {
    "duration": 5,
    "start_time": "2024-10-09T03:37:01.273Z"
   },
   {
    "duration": 10,
    "start_time": "2024-10-09T03:37:01.439Z"
   },
   {
    "duration": 10,
    "start_time": "2024-10-09T03:37:01.788Z"
   },
   {
    "duration": 9,
    "start_time": "2024-10-09T03:37:01.959Z"
   },
   {
    "duration": 13,
    "start_time": "2024-10-09T03:37:02.118Z"
   },
   {
    "duration": 109,
    "start_time": "2024-10-09T03:37:02.301Z"
   },
   {
    "duration": 819,
    "start_time": "2024-10-09T03:37:02.537Z"
   },
   {
    "duration": 46,
    "start_time": "2024-10-09T03:37:03.358Z"
   },
   {
    "duration": 275,
    "start_time": "2024-10-09T03:37:03.831Z"
   },
   {
    "duration": 135,
    "start_time": "2024-10-09T03:37:05.218Z"
   },
   {
    "duration": 167,
    "start_time": "2024-10-09T03:37:25.466Z"
   },
   {
    "duration": 4,
    "start_time": "2024-10-09T03:53:22.817Z"
   },
   {
    "duration": 1057,
    "start_time": "2024-10-09T03:53:34.153Z"
   },
   {
    "duration": 26,
    "start_time": "2024-10-09T03:54:32.988Z"
   },
   {
    "duration": 3,
    "start_time": "2024-10-09T03:55:15.001Z"
   },
   {
    "duration": 29,
    "start_time": "2024-10-09T03:55:19.774Z"
   },
   {
    "duration": 11,
    "start_time": "2024-10-09T03:55:19.928Z"
   },
   {
    "duration": 4,
    "start_time": "2024-10-09T03:55:20.052Z"
   },
   {
    "duration": 10,
    "start_time": "2024-10-09T03:55:20.200Z"
   },
   {
    "duration": 7,
    "start_time": "2024-10-09T03:55:20.302Z"
   },
   {
    "duration": 16,
    "start_time": "2024-10-09T03:55:20.396Z"
   },
   {
    "duration": 4,
    "start_time": "2024-10-09T03:55:20.876Z"
   },
   {
    "duration": 5,
    "start_time": "2024-10-09T03:55:20.985Z"
   },
   {
    "duration": 10,
    "start_time": "2024-10-09T03:55:21.133Z"
   },
   {
    "duration": 6,
    "start_time": "2024-10-09T03:55:22.048Z"
   },
   {
    "duration": 8,
    "start_time": "2024-10-09T03:55:22.641Z"
   },
   {
    "duration": 11,
    "start_time": "2024-10-09T03:55:22.870Z"
   },
   {
    "duration": 114,
    "start_time": "2024-10-09T03:55:23.038Z"
   },
   {
    "duration": 820,
    "start_time": "2024-10-09T03:55:23.378Z"
   },
   {
    "duration": 53,
    "start_time": "2024-10-09T03:55:24.201Z"
   },
   {
    "duration": 352,
    "start_time": "2024-10-09T03:55:24.256Z"
   },
   {
    "duration": 141,
    "start_time": "2024-10-09T03:55:24.610Z"
   },
   {
    "duration": 185,
    "start_time": "2024-10-09T03:55:24.753Z"
   },
   {
    "duration": 4,
    "start_time": "2024-10-09T03:55:25.687Z"
   },
   {
    "duration": 1054,
    "start_time": "2024-10-09T03:55:26.141Z"
   },
   {
    "duration": 1409,
    "start_time": "2024-10-09T03:55:27.197Z"
   },
   {
    "duration": 660,
    "start_time": "2024-10-09T03:56:03.322Z"
   },
   {
    "duration": 287,
    "start_time": "2024-10-09T03:56:25.533Z"
   },
   {
    "duration": 3,
    "start_time": "2024-10-09T04:07:50.208Z"
   },
   {
    "duration": 554,
    "start_time": "2024-10-09T04:07:58.637Z"
   },
   {
    "duration": 607,
    "start_time": "2024-10-09T04:08:15.346Z"
   },
   {
    "duration": 18,
    "start_time": "2024-10-09T04:08:25.186Z"
   },
   {
    "duration": 316,
    "start_time": "2024-10-09T04:08:43.100Z"
   },
   {
    "duration": 358,
    "start_time": "2024-10-09T04:09:06.829Z"
   },
   {
    "duration": 19,
    "start_time": "2024-10-09T04:16:20.830Z"
   },
   {
    "duration": 24,
    "start_time": "2024-10-09T04:16:50.643Z"
   },
   {
    "duration": 3,
    "start_time": "2024-10-09T04:21:59.550Z"
   },
   {
    "duration": 1132,
    "start_time": "2024-10-09T04:22:06.975Z"
   },
   {
    "duration": 23,
    "start_time": "2024-10-09T04:22:08.110Z"
   },
   {
    "duration": 16,
    "start_time": "2024-10-09T04:22:08.137Z"
   },
   {
    "duration": 4,
    "start_time": "2024-10-09T04:22:08.156Z"
   },
   {
    "duration": 14,
    "start_time": "2024-10-09T04:22:08.162Z"
   },
   {
    "duration": 7,
    "start_time": "2024-10-09T04:22:08.178Z"
   },
   {
    "duration": 9,
    "start_time": "2024-10-09T04:22:08.188Z"
   },
   {
    "duration": 4,
    "start_time": "2024-10-09T04:22:08.199Z"
   },
   {
    "duration": 28,
    "start_time": "2024-10-09T04:22:08.204Z"
   },
   {
    "duration": 11,
    "start_time": "2024-10-09T04:22:08.238Z"
   },
   {
    "duration": 7,
    "start_time": "2024-10-09T04:22:08.251Z"
   },
   {
    "duration": 10,
    "start_time": "2024-10-09T04:22:08.259Z"
   },
   {
    "duration": 11,
    "start_time": "2024-10-09T04:22:08.271Z"
   },
   {
    "duration": 150,
    "start_time": "2024-10-09T04:22:08.283Z"
   },
   {
    "duration": 829,
    "start_time": "2024-10-09T04:22:08.435Z"
   },
   {
    "duration": 47,
    "start_time": "2024-10-09T04:22:09.266Z"
   },
   {
    "duration": 162,
    "start_time": "2024-10-09T04:22:09.315Z"
   },
   {
    "duration": 173,
    "start_time": "2024-10-09T04:22:09.479Z"
   },
   {
    "duration": 4,
    "start_time": "2024-10-09T04:22:09.654Z"
   },
   {
    "duration": 1129,
    "start_time": "2024-10-09T04:22:09.660Z"
   },
   {
    "duration": 1416,
    "start_time": "2024-10-09T04:22:10.792Z"
   },
   {
    "duration": 672,
    "start_time": "2024-10-09T04:22:12.210Z"
   },
   {
    "duration": 3,
    "start_time": "2024-10-09T04:22:12.887Z"
   },
   {
    "duration": 539,
    "start_time": "2024-10-09T04:22:12.892Z"
   },
   {
    "duration": 482,
    "start_time": "2024-10-09T04:22:13.436Z"
   },
   {
    "duration": 477,
    "start_time": "2024-10-09T04:22:13.920Z"
   },
   {
    "duration": 488,
    "start_time": "2024-10-09T04:22:14.400Z"
   },
   {
    "duration": 267,
    "start_time": "2024-10-09T04:22:14.892Z"
   },
   {
    "duration": 36,
    "start_time": "2024-10-09T04:29:58.277Z"
   },
   {
    "duration": 1184,
    "start_time": "2024-10-09T04:30:15.999Z"
   },
   {
    "duration": 1833,
    "start_time": "2024-10-09T04:33:39.349Z"
   },
   {
    "duration": 1158,
    "start_time": "2024-10-09T04:33:58.043Z"
   },
   {
    "duration": 7,
    "start_time": "2024-10-09T08:01:25.259Z"
   },
   {
    "duration": 197,
    "start_time": "2024-10-09T16:00:28.793Z"
   },
   {
    "duration": 1091,
    "start_time": "2024-10-09T16:01:05.634Z"
   },
   {
    "duration": 0,
    "start_time": "2024-10-09T16:01:06.727Z"
   },
   {
    "duration": 0,
    "start_time": "2024-10-09T16:01:06.728Z"
   },
   {
    "duration": 0,
    "start_time": "2024-10-09T16:01:06.730Z"
   },
   {
    "duration": 0,
    "start_time": "2024-10-09T16:01:06.731Z"
   },
   {
    "duration": 0,
    "start_time": "2024-10-09T16:01:06.733Z"
   },
   {
    "duration": 0,
    "start_time": "2024-10-09T16:01:06.734Z"
   },
   {
    "duration": 0,
    "start_time": "2024-10-09T16:01:06.735Z"
   },
   {
    "duration": 0,
    "start_time": "2024-10-09T16:01:06.736Z"
   },
   {
    "duration": 0,
    "start_time": "2024-10-09T16:01:06.738Z"
   },
   {
    "duration": 0,
    "start_time": "2024-10-09T16:01:06.739Z"
   },
   {
    "duration": 0,
    "start_time": "2024-10-09T16:01:06.740Z"
   },
   {
    "duration": 0,
    "start_time": "2024-10-09T16:01:06.742Z"
   },
   {
    "duration": 0,
    "start_time": "2024-10-09T16:01:06.743Z"
   },
   {
    "duration": 0,
    "start_time": "2024-10-09T16:01:06.744Z"
   },
   {
    "duration": 0,
    "start_time": "2024-10-09T16:01:06.745Z"
   },
   {
    "duration": 0,
    "start_time": "2024-10-09T16:01:06.746Z"
   },
   {
    "duration": 0,
    "start_time": "2024-10-09T16:01:06.748Z"
   },
   {
    "duration": 0,
    "start_time": "2024-10-09T16:01:06.749Z"
   },
   {
    "duration": 0,
    "start_time": "2024-10-09T16:01:06.750Z"
   },
   {
    "duration": 0,
    "start_time": "2024-10-09T16:01:06.752Z"
   },
   {
    "duration": 0,
    "start_time": "2024-10-09T16:01:06.753Z"
   },
   {
    "duration": 0,
    "start_time": "2024-10-09T16:01:06.754Z"
   },
   {
    "duration": 0,
    "start_time": "2024-10-09T16:01:06.755Z"
   },
   {
    "duration": 0,
    "start_time": "2024-10-09T16:01:06.757Z"
   },
   {
    "duration": 0,
    "start_time": "2024-10-09T16:01:06.758Z"
   },
   {
    "duration": 0,
    "start_time": "2024-10-09T16:01:06.760Z"
   },
   {
    "duration": 0,
    "start_time": "2024-10-09T16:01:06.761Z"
   },
   {
    "duration": 5351,
    "start_time": "2024-10-09T16:19:04.261Z"
   },
   {
    "duration": 2521,
    "start_time": "2024-10-09T16:19:24.074Z"
   },
   {
    "duration": 4097,
    "start_time": "2024-10-09T16:19:26.598Z"
   },
   {
    "duration": 93,
    "start_time": "2024-10-09T16:19:30.697Z"
   },
   {
    "duration": 16,
    "start_time": "2024-10-09T16:19:30.797Z"
   },
   {
    "duration": 7,
    "start_time": "2024-10-09T16:19:30.818Z"
   },
   {
    "duration": 16,
    "start_time": "2024-10-09T16:19:30.831Z"
   },
   {
    "duration": 9,
    "start_time": "2024-10-09T16:19:30.853Z"
   },
   {
    "duration": 13,
    "start_time": "2024-10-09T16:19:30.868Z"
   },
   {
    "duration": 5,
    "start_time": "2024-10-09T16:19:30.887Z"
   },
   {
    "duration": 5,
    "start_time": "2024-10-09T16:19:30.899Z"
   },
   {
    "duration": 13,
    "start_time": "2024-10-09T16:19:30.910Z"
   },
   {
    "duration": 9,
    "start_time": "2024-10-09T16:19:30.928Z"
   },
   {
    "duration": 10,
    "start_time": "2024-10-09T16:19:30.943Z"
   },
   {
    "duration": 12,
    "start_time": "2024-10-09T16:19:30.959Z"
   },
   {
    "duration": 126,
    "start_time": "2024-10-09T16:19:30.977Z"
   },
   {
    "duration": 1096,
    "start_time": "2024-10-09T16:19:31.107Z"
   },
   {
    "duration": 62,
    "start_time": "2024-10-09T16:19:32.213Z"
   },
   {
    "duration": 173,
    "start_time": "2024-10-09T16:19:32.285Z"
   },
   {
    "duration": 186,
    "start_time": "2024-10-09T16:19:32.460Z"
   },
   {
    "duration": 5,
    "start_time": "2024-10-09T16:19:32.648Z"
   },
   {
    "duration": 1307,
    "start_time": "2024-10-09T16:19:32.654Z"
   },
   {
    "duration": 1729,
    "start_time": "2024-10-09T16:19:33.967Z"
   },
   {
    "duration": 805,
    "start_time": "2024-10-09T16:19:35.698Z"
   },
   {
    "duration": 3,
    "start_time": "2024-10-09T16:19:36.509Z"
   },
   {
    "duration": 4079,
    "start_time": "2024-10-09T16:19:36.514Z"
   },
   {
    "duration": 4753,
    "start_time": "2024-10-09T16:19:40.596Z"
   },
   {
    "duration": 1583,
    "start_time": "2024-10-09T16:19:45.350Z"
   },
   {
    "duration": 414,
    "start_time": "2024-10-09T16:19:46.938Z"
   },
   {
    "duration": 350,
    "start_time": "2024-10-09T16:19:47.356Z"
   },
   {
    "duration": 2569,
    "start_time": "2024-10-09T16:20:58.271Z"
   },
   {
    "duration": 1135,
    "start_time": "2024-10-09T16:21:00.843Z"
   },
   {
    "duration": 29,
    "start_time": "2024-10-09T16:21:01.980Z"
   },
   {
    "duration": 11,
    "start_time": "2024-10-09T16:21:02.011Z"
   },
   {
    "duration": 4,
    "start_time": "2024-10-09T16:21:02.023Z"
   },
   {
    "duration": 13,
    "start_time": "2024-10-09T16:21:02.028Z"
   },
   {
    "duration": 6,
    "start_time": "2024-10-09T16:21:02.043Z"
   },
   {
    "duration": 10,
    "start_time": "2024-10-09T16:21:02.050Z"
   },
   {
    "duration": 3,
    "start_time": "2024-10-09T16:21:02.061Z"
   },
   {
    "duration": 41,
    "start_time": "2024-10-09T16:21:02.068Z"
   },
   {
    "duration": 11,
    "start_time": "2024-10-09T16:21:02.112Z"
   },
   {
    "duration": 8,
    "start_time": "2024-10-09T16:21:02.125Z"
   },
   {
    "duration": 9,
    "start_time": "2024-10-09T16:21:02.135Z"
   },
   {
    "duration": 11,
    "start_time": "2024-10-09T16:21:02.146Z"
   },
   {
    "duration": 165,
    "start_time": "2024-10-09T16:21:02.159Z"
   },
   {
    "duration": 1064,
    "start_time": "2024-10-09T16:21:02.330Z"
   },
   {
    "duration": 55,
    "start_time": "2024-10-09T16:21:03.399Z"
   },
   {
    "duration": 155,
    "start_time": "2024-10-09T16:21:03.459Z"
   },
   {
    "duration": 194,
    "start_time": "2024-10-09T16:21:03.616Z"
   },
   {
    "duration": 4,
    "start_time": "2024-10-09T16:21:03.812Z"
   },
   {
    "duration": 1261,
    "start_time": "2024-10-09T16:21:03.818Z"
   },
   {
    "duration": 1657,
    "start_time": "2024-10-09T16:21:05.081Z"
   },
   {
    "duration": 786,
    "start_time": "2024-10-09T16:21:06.741Z"
   },
   {
    "duration": 4,
    "start_time": "2024-10-09T16:21:07.528Z"
   },
   {
    "duration": 4582,
    "start_time": "2024-10-09T16:21:07.534Z"
   },
   {
    "duration": 3934,
    "start_time": "2024-10-09T16:21:12.118Z"
   },
   {
    "duration": 1638,
    "start_time": "2024-10-09T16:21:16.054Z"
   },
   {
    "duration": 419,
    "start_time": "2024-10-09T16:21:17.697Z"
   },
   {
    "duration": 2694,
    "start_time": "2024-10-09T16:37:58.596Z"
   },
   {
    "duration": 1254,
    "start_time": "2024-10-09T16:38:01.292Z"
   },
   {
    "duration": 25,
    "start_time": "2024-10-09T16:38:02.551Z"
   },
   {
    "duration": 14,
    "start_time": "2024-10-09T16:38:02.580Z"
   },
   {
    "duration": 14,
    "start_time": "2024-10-09T16:38:02.596Z"
   },
   {
    "duration": 13,
    "start_time": "2024-10-09T16:38:02.612Z"
   },
   {
    "duration": 7,
    "start_time": "2024-10-09T16:38:02.627Z"
   },
   {
    "duration": 10,
    "start_time": "2024-10-09T16:38:02.636Z"
   },
   {
    "duration": 3,
    "start_time": "2024-10-09T16:38:02.648Z"
   },
   {
    "duration": 4,
    "start_time": "2024-10-09T16:38:02.655Z"
   },
   {
    "duration": 50,
    "start_time": "2024-10-09T16:38:02.662Z"
   },
   {
    "duration": 7,
    "start_time": "2024-10-09T16:38:02.714Z"
   },
   {
    "duration": 10,
    "start_time": "2024-10-09T16:38:02.723Z"
   },
   {
    "duration": 10,
    "start_time": "2024-10-09T16:38:02.735Z"
   },
   {
    "duration": 146,
    "start_time": "2024-10-09T16:38:02.747Z"
   },
   {
    "duration": 1068,
    "start_time": "2024-10-09T16:38:02.895Z"
   },
   {
    "duration": 59,
    "start_time": "2024-10-09T16:38:03.966Z"
   },
   {
    "duration": 182,
    "start_time": "2024-10-09T16:38:04.027Z"
   },
   {
    "duration": 164,
    "start_time": "2024-10-09T16:38:04.211Z"
   },
   {
    "duration": 34,
    "start_time": "2024-10-09T16:38:04.376Z"
   },
   {
    "duration": 1297,
    "start_time": "2024-10-09T16:38:04.412Z"
   },
   {
    "duration": 1680,
    "start_time": "2024-10-09T16:38:05.712Z"
   },
   {
    "duration": 789,
    "start_time": "2024-10-09T16:38:07.395Z"
   },
   {
    "duration": 4,
    "start_time": "2024-10-09T16:38:08.187Z"
   },
   {
    "duration": 5554,
    "start_time": "2024-10-09T16:38:08.193Z"
   },
   {
    "duration": 5127,
    "start_time": "2024-10-09T16:38:13.756Z"
   },
   {
    "duration": 3011,
    "start_time": "2024-10-09T16:38:18.885Z"
   },
   {
    "duration": 416,
    "start_time": "2024-10-09T16:38:21.900Z"
   },
   {
    "duration": 8,
    "start_time": "2024-10-09T16:38:22.318Z"
   },
   {
    "duration": 983,
    "start_time": "2024-10-09T16:38:30.991Z"
   },
   {
    "duration": 30,
    "start_time": "2024-10-09T16:38:31.979Z"
   },
   {
    "duration": 13,
    "start_time": "2024-10-09T16:38:32.013Z"
   },
   {
    "duration": 5,
    "start_time": "2024-10-09T16:38:32.027Z"
   },
   {
    "duration": 15,
    "start_time": "2024-10-09T16:38:32.034Z"
   },
   {
    "duration": 8,
    "start_time": "2024-10-09T16:38:32.051Z"
   },
   {
    "duration": 10,
    "start_time": "2024-10-09T16:38:32.061Z"
   },
   {
    "duration": 5,
    "start_time": "2024-10-09T16:38:32.110Z"
   },
   {
    "duration": 4,
    "start_time": "2024-10-09T16:38:32.119Z"
   },
   {
    "duration": 11,
    "start_time": "2024-10-09T16:38:32.125Z"
   },
   {
    "duration": 7,
    "start_time": "2024-10-09T16:38:32.138Z"
   },
   {
    "duration": 10,
    "start_time": "2024-10-09T16:38:32.147Z"
   },
   {
    "duration": 11,
    "start_time": "2024-10-09T16:38:32.159Z"
   },
   {
    "duration": 148,
    "start_time": "2024-10-09T16:38:32.172Z"
   },
   {
    "duration": 865,
    "start_time": "2024-10-09T16:38:32.324Z"
   },
   {
    "duration": 53,
    "start_time": "2024-10-09T16:38:33.192Z"
   },
   {
    "duration": 137,
    "start_time": "2024-10-09T16:38:33.248Z"
   },
   {
    "duration": 161,
    "start_time": "2024-10-09T16:38:33.388Z"
   },
   {
    "duration": 6,
    "start_time": "2024-10-09T16:38:33.551Z"
   },
   {
    "duration": 1149,
    "start_time": "2024-10-09T16:38:33.559Z"
   },
   {
    "duration": 1732,
    "start_time": "2024-10-09T16:38:34.711Z"
   },
   {
    "duration": 784,
    "start_time": "2024-10-09T16:38:36.446Z"
   },
   {
    "duration": 3,
    "start_time": "2024-10-09T16:38:37.235Z"
   },
   {
    "duration": 4792,
    "start_time": "2024-10-09T16:38:37.240Z"
   },
   {
    "duration": 6506,
    "start_time": "2024-10-09T16:38:42.034Z"
   },
   {
    "duration": 1086,
    "start_time": "2024-10-09T16:38:48.542Z"
   },
   {
    "duration": 402,
    "start_time": "2024-10-09T16:38:49.632Z"
   },
   {
    "duration": 8,
    "start_time": "2024-10-09T16:38:50.035Z"
   }
  ],
  "kernelspec": {
   "display_name": "Python 3 (ipykernel)",
   "language": "python",
   "name": "python3"
  },
  "language_info": {
   "codemirror_mode": {
    "name": "ipython",
    "version": 3
   },
   "file_extension": ".py",
   "mimetype": "text/x-python",
   "name": "python",
   "nbconvert_exporter": "python",
   "pygments_lexer": "ipython3",
   "version": "3.12.4"
  },
  "toc": {
   "base_numbering": 1,
   "nav_menu": {},
   "number_sections": true,
   "sideBar": true,
   "skip_h1_title": true,
   "title_cell": "Table of Contents",
   "title_sidebar": "Contents",
   "toc_cell": false,
   "toc_position": {},
   "toc_section_display": true,
   "toc_window_display": false
  }
 },
 "nbformat": 4,
 "nbformat_minor": 4
}
